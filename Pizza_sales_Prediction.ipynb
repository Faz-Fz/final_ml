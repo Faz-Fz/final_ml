{
  "metadata": {
    "kernelspec": {
      "language": "python",
      "display_name": "Python 3",
      "name": "python3"
    },
    "language_info": {
      "pygments_lexer": "ipython3",
      "nbconvert_exporter": "python",
      "version": "3.6.4",
      "file_extension": ".py",
      "codemirror_mode": {
        "name": "ipython",
        "version": 3
      },
      "name": "python",
      "mimetype": "text/x-python"
    },
    "colab": {
      "name": "Pizza sales Prediction",
      "provenance": [],
      "include_colab_link": true
    }
  },
  "nbformat_minor": 0,
  "nbformat": 4,
  "cells": [
    {
      "cell_type": "markdown",
      "metadata": {
        "id": "view-in-github",
        "colab_type": "text"
      },
      "source": [
        "<a href=\"https://colab.research.google.com/github/Faz-Fz/final_ml/blob/main/Pizza_sales_Prediction.ipynb\" target=\"_parent\"><img src=\"https://colab.research.google.com/assets/colab-badge.svg\" alt=\"Open In Colab\"/></a>"
      ]
    },
    {
      "source": [
        "# IMPORTANT: RUN THIS CELL IN ORDER TO IMPORT YOUR KAGGLE DATA SOURCES,\n",
        "# THEN FEEL FREE TO DELETE THIS CELL.\n",
        "# NOTE: THIS NOTEBOOK ENVIRONMENT DIFFERS FROM KAGGLE'S PYTHON\n",
        "# ENVIRONMENT SO THERE MAY BE MISSING LIBRARIES USED BY YOUR\n",
        "# NOTEBOOK.\n",
        "import kagglehub\n",
        "ulrikthygepedersen_pizza_place_sales_path = kagglehub.dataset_download('ulrikthygepedersen/pizza-place-sales')\n",
        "\n",
        "print('Data source import complete.')\n"
      ],
      "metadata": {
        "id": "SUYTuWMkYcar"
      },
      "cell_type": "code",
      "outputs": [],
      "execution_count": null
    },
    {
      "cell_type": "code",
      "source": [
        "# This Python 3 environment comes with many helpful analytics libraries installed\n",
        "# It is defined by the kaggle/python Docker image: https://github.com/kaggle/docker-python\n",
        "# For example, here's several helpful packages to load\n",
        "\n",
        "import numpy as np # linear algebra\n",
        "import pandas as pd # data processing, CSV file I/O (e.g. pd.read_csv)\n",
        "\n",
        "# Input data files are available in the read-only \"../input/\" directory\n",
        "# For example, running this (by clicking run or pressing Shift+Enter) will list all files under the input directory\n",
        "\n",
        "import os\n",
        "for dirname, _, filenames in os.walk('/kaggle/input'):\n",
        "    for filename in filenames:\n",
        "        print(os.path.join(dirname, filename))\n",
        "\n",
        "# You can write up to 20GB to the current directory (/kaggle/working/) that gets preserved as output when you create a version using \"Save & Run All\"\n",
        "# You can also write temporary files to /kaggle/temp/, but they won't be saved outside of the current session"
      ],
      "metadata": {
        "_uuid": "8f2839f25d086af736a60e9eeb907d3b93b6e0e5",
        "_cell_guid": "b1076dfc-b9ad-4769-8c92-a6c4dae69d19",
        "execution": {
          "iopub.status.busy": "2023-09-27T18:17:55.622942Z",
          "iopub.execute_input": "2023-09-27T18:17:55.623773Z",
          "iopub.status.idle": "2023-09-27T18:17:56.185414Z",
          "shell.execute_reply.started": "2023-09-27T18:17:55.62373Z",
          "shell.execute_reply": "2023-09-27T18:17:56.184403Z"
        },
        "trusted": true,
        "id": "oD9QhGj3Ycas"
      },
      "execution_count": null,
      "outputs": []
    },
    {
      "cell_type": "markdown",
      "source": [
        "<h1>Importing modules and dataset</h1>"
      ],
      "metadata": {
        "id": "wSOv8l2-Ycas"
      }
    },
    {
      "cell_type": "code",
      "source": [
        "import pandas as pd\n",
        "import numpy as np\n",
        "import matplotlib.pyplot as plt\n",
        "import seaborn as sns"
      ],
      "metadata": {
        "execution": {
          "iopub.status.busy": "2023-09-27T18:17:56.188028Z",
          "iopub.execute_input": "2023-09-27T18:17:56.189101Z",
          "iopub.status.idle": "2023-09-27T18:17:58.439142Z",
          "shell.execute_reply.started": "2023-09-27T18:17:56.18905Z",
          "shell.execute_reply": "2023-09-27T18:17:58.437858Z"
        },
        "trusted": true,
        "id": "m3auEpZhYcat"
      },
      "execution_count": null,
      "outputs": []
    },
    {
      "cell_type": "code",
      "source": [
        "df = pd.read_csv('/kaggle/input/pizza-place-sales/pizzaplace.csv')\n",
        "df.head()"
      ],
      "metadata": {
        "execution": {
          "iopub.status.busy": "2023-09-27T18:17:58.441315Z",
          "iopub.execute_input": "2023-09-27T18:17:58.441883Z",
          "iopub.status.idle": "2023-09-27T18:17:58.698666Z",
          "shell.execute_reply.started": "2023-09-27T18:17:58.441837Z",
          "shell.execute_reply": "2023-09-27T18:17:58.697356Z"
        },
        "trusted": true,
        "id": "9nhD7VyYYcau"
      },
      "execution_count": null,
      "outputs": []
    },
    {
      "cell_type": "code",
      "source": [
        "df.info()"
      ],
      "metadata": {
        "execution": {
          "iopub.status.busy": "2023-09-27T18:17:58.703051Z",
          "iopub.execute_input": "2023-09-27T18:17:58.703941Z",
          "iopub.status.idle": "2023-09-27T18:17:58.782119Z",
          "shell.execute_reply.started": "2023-09-27T18:17:58.703885Z",
          "shell.execute_reply": "2023-09-27T18:17:58.780821Z"
        },
        "trusted": true,
        "id": "uDMrQMvYYcav"
      },
      "execution_count": null,
      "outputs": []
    },
    {
      "cell_type": "markdown",
      "source": [
        "The dataset contains **49,574 rows and 8 columns.**\n",
        "*  '**id'** is an object (string) column, likely an identifier for each entry.\n",
        "* **'date'** is an object (string) column, representing dates.\n",
        "* **'time'** is an object (string) column, representing timestamps.\n",
        "*  **'name'** is an object (string) column, likely representing the name of the pizza.\n",
        "*  **'size'** is an object (string) column, possibly representing the size of the pizza.\n",
        "* **'type'** is an object (string) column, likely representing the type or category of the pizza.\n",
        "*  **'price'** is a float64 column, representing the price of the pizza."
      ],
      "metadata": {
        "id": "c8z20jMNYcav"
      }
    },
    {
      "cell_type": "code",
      "source": [
        "df.isna().sum() # no null values"
      ],
      "metadata": {
        "execution": {
          "iopub.status.busy": "2023-09-27T18:17:58.783622Z",
          "iopub.execute_input": "2023-09-27T18:17:58.784559Z",
          "iopub.status.idle": "2023-09-27T18:17:58.828682Z",
          "shell.execute_reply.started": "2023-09-27T18:17:58.784523Z",
          "shell.execute_reply": "2023-09-27T18:17:58.826544Z"
        },
        "trusted": true,
        "id": "eDHNMtI8Ycaw"
      },
      "execution_count": null,
      "outputs": []
    },
    {
      "cell_type": "code",
      "source": [
        "df.describe()"
      ],
      "metadata": {
        "execution": {
          "iopub.status.busy": "2023-09-27T18:17:58.830463Z",
          "iopub.execute_input": "2023-09-27T18:17:58.831088Z",
          "iopub.status.idle": "2023-09-27T18:17:58.875772Z",
          "shell.execute_reply.started": "2023-09-27T18:17:58.831039Z",
          "shell.execute_reply": "2023-09-27T18:17:58.874838Z"
        },
        "trusted": true,
        "id": "VLFx6YEVYcaw"
      },
      "execution_count": null,
      "outputs": []
    },
    {
      "cell_type": "code",
      "source": [
        "df['size'].value_counts()"
      ],
      "metadata": {
        "execution": {
          "iopub.status.busy": "2023-09-27T18:17:58.877368Z",
          "iopub.execute_input": "2023-09-27T18:17:58.878139Z",
          "iopub.status.idle": "2023-09-27T18:17:58.896068Z",
          "shell.execute_reply.started": "2023-09-27T18:17:58.878099Z",
          "shell.execute_reply": "2023-09-27T18:17:58.8945Z"
        },
        "trusted": true,
        "id": "oc_4FY8cYcaw"
      },
      "execution_count": null,
      "outputs": []
    },
    {
      "cell_type": "code",
      "source": [
        "df['name'].value_counts()"
      ],
      "metadata": {
        "execution": {
          "iopub.status.busy": "2023-09-27T18:17:58.898102Z",
          "iopub.execute_input": "2023-09-27T18:17:58.898533Z",
          "iopub.status.idle": "2023-09-27T18:17:58.927883Z",
          "shell.execute_reply.started": "2023-09-27T18:17:58.8985Z",
          "shell.execute_reply": "2023-09-27T18:17:58.926373Z"
        },
        "trusted": true,
        "id": "7mx_3lPmYcax"
      },
      "execution_count": null,
      "outputs": []
    },
    {
      "cell_type": "markdown",
      "source": [
        "<h2>Visualizing</h2>"
      ],
      "metadata": {
        "id": "fOT95Eq0Ycax"
      }
    },
    {
      "cell_type": "code",
      "source": [
        "#Visualizing the distribution of pizza types\n",
        "plt.figure(figsize=(10, 6))\n",
        "sns.countplot(data=df, x='type')\n",
        "plt.title('Pizza Type Distribution')\n",
        "plt.xlabel('Pizza Type')\n",
        "plt.ylabel('Count')\n",
        "plt.xticks(rotation=45)\n",
        "plt.show()\n",
        "#we see 4 types of pizza with amount of distribution"
      ],
      "metadata": {
        "execution": {
          "iopub.status.busy": "2023-09-27T18:17:58.929567Z",
          "iopub.execute_input": "2023-09-27T18:17:58.930064Z",
          "iopub.status.idle": "2023-09-27T18:17:59.387748Z",
          "shell.execute_reply.started": "2023-09-27T18:17:58.929998Z",
          "shell.execute_reply": "2023-09-27T18:17:59.38635Z"
        },
        "trusted": true,
        "id": "59_UpCmlYcax"
      },
      "execution_count": null,
      "outputs": []
    },
    {
      "cell_type": "code",
      "source": [
        "# Visualize the distribution of pizza sizes\n",
        "plt.figure(figsize=(10, 6))\n",
        "sns.countplot(data=df, x='size')\n",
        "plt.title('Pizza Size Distribution')\n",
        "plt.xlabel('Pizza Size')\n",
        "plt.ylabel('Count')\n",
        "plt.show()\n",
        "#we see most common size bought by users is L size"
      ],
      "metadata": {
        "execution": {
          "iopub.status.busy": "2023-09-27T18:17:59.392503Z",
          "iopub.execute_input": "2023-09-27T18:17:59.392967Z",
          "iopub.status.idle": "2023-09-27T18:17:59.80084Z",
          "shell.execute_reply.started": "2023-09-27T18:17:59.392933Z",
          "shell.execute_reply": "2023-09-27T18:17:59.798889Z"
        },
        "trusted": true,
        "id": "fd1feVWQYcax"
      },
      "execution_count": null,
      "outputs": []
    },
    {
      "cell_type": "code",
      "source": [
        "# Visualize the relationship between price and pizza type using a boxplot\n",
        "plt.figure(figsize=(12, 8))\n",
        "sns.boxplot(data=df, x='type', y='price')\n",
        "plt.title('Price Distribution by Pizza Type')\n",
        "plt.xlabel('Pizza Type')\n",
        "plt.ylabel('Price')\n",
        "plt.xticks(rotation=45)\n",
        "plt.show()\n",
        "# a boxplot explains 5 features - min, max, median(middle line), q0 q1"
      ],
      "metadata": {
        "execution": {
          "iopub.status.busy": "2023-09-27T18:17:59.803749Z",
          "iopub.execute_input": "2023-09-27T18:17:59.804747Z",
          "iopub.status.idle": "2023-09-27T18:18:00.256657Z",
          "shell.execute_reply.started": "2023-09-27T18:17:59.804548Z",
          "shell.execute_reply": "2023-09-27T18:18:00.255042Z"
        },
        "trusted": true,
        "id": "T5WkDavrYcax"
      },
      "execution_count": null,
      "outputs": []
    },
    {
      "cell_type": "code",
      "source": [
        "df['date'] = pd.to_datetime(df['date'])\n",
        "\n",
        "# Extractday of the week (0 = Monday, 6 = Sunday)\n",
        "df['day_of_week'] = df['date'].dt.dayofweek\n",
        "\n",
        "days_of_week = ['Monday', 'Tuesday', 'Wednesday', 'Thursday', 'Friday', 'Saturday', 'Sunday']\n",
        "\n",
        "#  DataFrame to store daily order counts\n",
        "daily_orders = df['day_of_week'].value_counts().sort_index().reindex(range(7), fill_value=0)\n",
        "\n",
        "plt.figure(figsize=(10, 6))\n",
        "sns.barplot(x=days_of_week, y=daily_orders.values)\n",
        "plt.title('Number of Orders by Day of the Week')\n",
        "plt.xlabel('Day of the Week')\n",
        "plt.ylabel('Number of Orders')\n",
        "plt.xticks(rotation=45)\n",
        "plt.show()"
      ],
      "metadata": {
        "execution": {
          "iopub.status.busy": "2023-09-27T18:18:00.258425Z",
          "iopub.execute_input": "2023-09-27T18:18:00.25892Z",
          "iopub.status.idle": "2023-09-27T18:18:00.738174Z",
          "shell.execute_reply.started": "2023-09-27T18:18:00.258881Z",
          "shell.execute_reply": "2023-09-27T18:18:00.735623Z"
        },
        "trusted": true,
        "id": "sqzAS5o6Ycay"
      },
      "execution_count": null,
      "outputs": []
    },
    {
      "cell_type": "code",
      "source": [
        "# Visualize the monthly sales over time\n",
        "df['date'] = pd.to_datetime(df['date'])\n",
        "df['month'] = df['date'].dt.month\n",
        "monthly_sales = df.groupby('month')['price'].sum()"
      ],
      "metadata": {
        "execution": {
          "iopub.status.busy": "2023-09-27T18:18:00.740746Z",
          "iopub.execute_input": "2023-09-27T18:18:00.741234Z",
          "iopub.status.idle": "2023-09-27T18:18:00.791426Z",
          "shell.execute_reply.started": "2023-09-27T18:18:00.741196Z",
          "shell.execute_reply": "2023-09-27T18:18:00.789808Z"
        },
        "trusted": true,
        "id": "d2kY4gukYcay"
      },
      "execution_count": null,
      "outputs": []
    },
    {
      "cell_type": "code",
      "source": [
        "plt.figure(figsize=(10, 6))\n",
        "sns.lineplot(x=monthly_sales.index, y=monthly_sales.values)\n",
        "plt.title('Monthly Sales Over Time')\n",
        "plt.xlabel('Month')\n",
        "plt.ylabel('Total Sales')\n",
        "plt.xticks(range(1, 13), ['Jan', 'Feb', 'Mar', 'Apr', 'May', 'Jun', 'Jul', 'Aug', 'Sep', 'Oct', 'Nov', 'Dec'])\n",
        "plt.show()\n",
        "# monthly sales are as follows"
      ],
      "metadata": {
        "execution": {
          "iopub.status.busy": "2023-09-27T18:18:00.793811Z",
          "iopub.execute_input": "2023-09-27T18:18:00.794721Z",
          "iopub.status.idle": "2023-09-27T18:18:01.181401Z",
          "shell.execute_reply.started": "2023-09-27T18:18:00.794645Z",
          "shell.execute_reply": "2023-09-27T18:18:01.179721Z"
        },
        "trusted": true,
        "id": "8W3u0V8NYcay"
      },
      "execution_count": null,
      "outputs": []
    },
    {
      "cell_type": "markdown",
      "source": [
        "**Which is the favorite pizza of customers (most ordered pizza)?**"
      ],
      "metadata": {
        "id": "mknkOQm7Ycay"
      }
    },
    {
      "cell_type": "code",
      "source": [
        "favorite_pizza = df.groupby(['name', 'size'])['id'].count().idxmax()\n",
        "print(\"Favorite Pizza:\", favorite_pizza)"
      ],
      "metadata": {
        "execution": {
          "iopub.status.busy": "2023-09-27T18:18:01.183832Z",
          "iopub.execute_input": "2023-09-27T18:18:01.184347Z",
          "iopub.status.idle": "2023-09-27T18:18:01.212355Z",
          "shell.execute_reply.started": "2023-09-27T18:18:01.184306Z",
          "shell.execute_reply": "2023-09-27T18:18:01.210473Z"
        },
        "trusted": true,
        "id": "exdMpQBSYcay"
      },
      "execution_count": null,
      "outputs": []
    },
    {
      "cell_type": "markdown",
      "source": [
        "<h2>Regression</h2>"
      ],
      "metadata": {
        "id": "NbAVZ_6NYcay"
      }
    },
    {
      "cell_type": "code",
      "source": [
        "cat_cols=df.select_dtypes(include=['object']).columns"
      ],
      "metadata": {
        "execution": {
          "iopub.status.busy": "2023-09-27T18:18:01.214333Z",
          "iopub.execute_input": "2023-09-27T18:18:01.214778Z",
          "iopub.status.idle": "2023-09-27T18:18:01.234883Z",
          "shell.execute_reply.started": "2023-09-27T18:18:01.214738Z",
          "shell.execute_reply": "2023-09-27T18:18:01.233782Z"
        },
        "trusted": true,
        "id": "64dViNaLYcay"
      },
      "execution_count": null,
      "outputs": []
    },
    {
      "cell_type": "code",
      "source": [
        "cat_cols"
      ],
      "metadata": {
        "execution": {
          "iopub.status.busy": "2023-09-27T18:18:01.236781Z",
          "iopub.execute_input": "2023-09-27T18:18:01.238006Z",
          "iopub.status.idle": "2023-09-27T18:18:01.247834Z",
          "shell.execute_reply.started": "2023-09-27T18:18:01.237961Z",
          "shell.execute_reply": "2023-09-27T18:18:01.246397Z"
        },
        "trusted": true,
        "id": "onWC4BeUYcay"
      },
      "execution_count": null,
      "outputs": []
    },
    {
      "cell_type": "code",
      "source": [
        "from sklearn.preprocessing import LabelEncoder\n",
        "en=LabelEncoder()\n",
        "for i in cat_cols:\n",
        "    df[i]=en.fit_transform(df[i])"
      ],
      "metadata": {
        "execution": {
          "iopub.status.busy": "2023-09-27T18:18:01.249273Z",
          "iopub.execute_input": "2023-09-27T18:18:01.249748Z",
          "iopub.status.idle": "2023-09-27T18:18:01.593629Z",
          "shell.execute_reply.started": "2023-09-27T18:18:01.249697Z",
          "shell.execute_reply": "2023-09-27T18:18:01.591696Z"
        },
        "trusted": true,
        "id": "V-TEGmY9Ycay"
      },
      "execution_count": null,
      "outputs": []
    },
    {
      "cell_type": "code",
      "source": [
        "# Dropings from the df\n",
        "columns_to_drop = ['Unnamed: 0', 'id', 'date', 'time']\n",
        "df = df.drop(columns=columns_to_drop)"
      ],
      "metadata": {
        "execution": {
          "iopub.status.busy": "2023-09-27T18:18:04.998322Z",
          "iopub.execute_input": "2023-09-27T18:18:04.99878Z",
          "iopub.status.idle": "2023-09-27T18:18:05.012153Z",
          "shell.execute_reply.started": "2023-09-27T18:18:04.998742Z",
          "shell.execute_reply": "2023-09-27T18:18:05.010148Z"
        },
        "trusted": true,
        "id": "Nmzpm_LVYcay"
      },
      "execution_count": null,
      "outputs": []
    },
    {
      "cell_type": "code",
      "source": [
        "df.head()"
      ],
      "metadata": {
        "execution": {
          "iopub.status.busy": "2023-09-27T18:18:05.704425Z",
          "iopub.execute_input": "2023-09-27T18:18:05.70489Z",
          "iopub.status.idle": "2023-09-27T18:18:05.720568Z",
          "shell.execute_reply.started": "2023-09-27T18:18:05.704856Z",
          "shell.execute_reply": "2023-09-27T18:18:05.719029Z"
        },
        "trusted": true,
        "id": "Aftf8tyzYcay"
      },
      "execution_count": null,
      "outputs": []
    },
    {
      "cell_type": "code",
      "source": [
        "X= df.drop('price',axis=1)\n",
        "y = df['price']"
      ],
      "metadata": {
        "execution": {
          "iopub.status.busy": "2023-09-27T18:18:07.992429Z",
          "iopub.execute_input": "2023-09-27T18:18:07.992925Z",
          "iopub.status.idle": "2023-09-27T18:18:08.003557Z",
          "shell.execute_reply.started": "2023-09-27T18:18:07.992885Z",
          "shell.execute_reply": "2023-09-27T18:18:08.001406Z"
        },
        "trusted": true,
        "id": "xeQJDkVgYcaz"
      },
      "execution_count": null,
      "outputs": []
    },
    {
      "cell_type": "code",
      "source": [
        "# # Dropings from the df\n",
        "# columns_to_drop = ['Unnamed: 0', 'id', 'date', 'time','price']\n",
        "# df = df.drop(columns=columns_to_drop)"
      ],
      "metadata": {
        "execution": {
          "iopub.status.busy": "2023-09-27T18:18:09.290349Z",
          "iopub.execute_input": "2023-09-27T18:18:09.290848Z",
          "iopub.status.idle": "2023-09-27T18:18:09.297474Z",
          "shell.execute_reply.started": "2023-09-27T18:18:09.290811Z",
          "shell.execute_reply": "2023-09-27T18:18:09.295208Z"
        },
        "trusted": true,
        "id": "ZTgXJgbLYcaz"
      },
      "execution_count": null,
      "outputs": []
    },
    {
      "cell_type": "code",
      "source": [
        "df.head()"
      ],
      "metadata": {
        "execution": {
          "iopub.status.busy": "2023-09-27T17:40:06.486506Z",
          "iopub.execute_input": "2023-09-27T17:40:06.486955Z",
          "iopub.status.idle": "2023-09-27T17:40:06.500616Z",
          "shell.execute_reply.started": "2023-09-27T17:40:06.486921Z",
          "shell.execute_reply": "2023-09-27T17:40:06.498999Z"
        },
        "trusted": true,
        "id": "MMijkBnwYcaz"
      },
      "execution_count": null,
      "outputs": []
    },
    {
      "cell_type": "code",
      "source": [
        "from sklearn.model_selection import train_test_split\n",
        "X_train,X_test,y_train,y_test=train_test_split(X,y,test_size=0.2,random_state=40)"
      ],
      "metadata": {
        "execution": {
          "iopub.status.busy": "2023-09-27T18:18:18.35661Z",
          "iopub.execute_input": "2023-09-27T18:18:18.357077Z",
          "iopub.status.idle": "2023-09-27T18:18:18.489188Z",
          "shell.execute_reply.started": "2023-09-27T18:18:18.357042Z",
          "shell.execute_reply": "2023-09-27T18:18:18.48811Z"
        },
        "trusted": true,
        "id": "14MkOuqMYcaz"
      },
      "execution_count": null,
      "outputs": []
    },
    {
      "cell_type": "code",
      "source": [
        "from sklearn.linear_model import LinearRegression\n",
        "from xgboost import XGBRegressor\n",
        "from sklearn.ensemble import GradientBoostingRegressor\n",
        "from sklearn.ensemble import RandomForestRegressor\n",
        "from sklearn.tree import DecisionTreeRegressor"
      ],
      "metadata": {
        "execution": {
          "iopub.status.busy": "2023-09-27T18:19:55.372514Z",
          "iopub.execute_input": "2023-09-27T18:19:55.372969Z",
          "iopub.status.idle": "2023-09-27T18:19:55.378835Z",
          "shell.execute_reply.started": "2023-09-27T18:19:55.372935Z",
          "shell.execute_reply": "2023-09-27T18:19:55.377389Z"
        },
        "trusted": true,
        "id": "0Ks8uzfvYcaz"
      },
      "execution_count": null,
      "outputs": []
    },
    {
      "cell_type": "code",
      "source": [
        "lr = LinearRegression()\n",
        "lr.fit(X_train,y_train)"
      ],
      "metadata": {
        "execution": {
          "iopub.status.busy": "2023-09-27T18:18:21.136656Z",
          "iopub.execute_input": "2023-09-27T18:18:21.137198Z",
          "iopub.status.idle": "2023-09-27T18:18:21.195447Z",
          "shell.execute_reply.started": "2023-09-27T18:18:21.137162Z",
          "shell.execute_reply": "2023-09-27T18:18:21.194138Z"
        },
        "trusted": true,
        "id": "kmiRjHJqYcaz"
      },
      "execution_count": null,
      "outputs": []
    },
    {
      "cell_type": "code",
      "source": [
        "rf  = RandomForestRegressor()\n",
        "rf.fit(X_train,y_train)"
      ],
      "metadata": {
        "execution": {
          "iopub.status.busy": "2023-09-27T18:19:26.533979Z",
          "iopub.execute_input": "2023-09-27T18:19:26.534456Z",
          "iopub.status.idle": "2023-09-27T18:19:28.981198Z",
          "shell.execute_reply.started": "2023-09-27T18:19:26.534419Z",
          "shell.execute_reply": "2023-09-27T18:19:28.979864Z"
        },
        "trusted": true,
        "id": "JM18rIZSYcaz"
      },
      "execution_count": null,
      "outputs": []
    },
    {
      "cell_type": "code",
      "source": [
        "\n",
        "gbr = GradientBoostingRegressor()\n",
        "gbr.fit(X_train,y_train)"
      ],
      "metadata": {
        "execution": {
          "iopub.status.busy": "2023-09-27T18:20:01.35354Z",
          "iopub.execute_input": "2023-09-27T18:20:01.353975Z",
          "iopub.status.idle": "2023-09-27T18:20:03.369437Z",
          "shell.execute_reply.started": "2023-09-27T18:20:01.353943Z",
          "shell.execute_reply": "2023-09-27T18:20:03.367984Z"
        },
        "trusted": true,
        "id": "J6Q2M2sPYcaz"
      },
      "execution_count": null,
      "outputs": []
    },
    {
      "cell_type": "code",
      "source": [
        "xg = XGBRegressor()\n",
        "xg.fit(X_train,y_train)"
      ],
      "metadata": {
        "execution": {
          "iopub.status.busy": "2023-09-27T18:20:03.371488Z",
          "iopub.execute_input": "2023-09-27T18:20:03.371888Z",
          "iopub.status.idle": "2023-09-27T18:20:04.340286Z",
          "shell.execute_reply.started": "2023-09-27T18:20:03.37184Z",
          "shell.execute_reply": "2023-09-27T18:20:04.338947Z"
        },
        "trusted": true,
        "id": "SdvWflwPYcaz"
      },
      "execution_count": null,
      "outputs": []
    },
    {
      "cell_type": "code",
      "source": [
        "# Create a DecisionTreeRegressor instance\n",
        "tree_reg = DecisionTreeRegressor()\n",
        "\n",
        "# Fit the model to the training data\n",
        "tree_reg.fit(X_train, y_train)\n",
        "\n"
      ],
      "metadata": {
        "execution": {
          "iopub.status.busy": "2023-09-27T18:20:04.342504Z",
          "iopub.execute_input": "2023-09-27T18:20:04.342902Z",
          "iopub.status.idle": "2023-09-27T18:20:04.38742Z",
          "shell.execute_reply.started": "2023-09-27T18:20:04.342871Z",
          "shell.execute_reply": "2023-09-27T18:20:04.386032Z"
        },
        "trusted": true,
        "id": "Q1YKRM4eYcaz"
      },
      "execution_count": null,
      "outputs": []
    },
    {
      "cell_type": "markdown",
      "source": [
        "\n",
        "<h3>Prediction on Test Data</h3>"
      ],
      "metadata": {
        "id": "uUrJeNtsYca0"
      }
    },
    {
      "cell_type": "code",
      "source": [
        "y_pred1 = lr.predict(X_test)\n",
        "y_pred2 = rf.predict(X_test)\n",
        "y_pred3 = gbr.predict(X_test)\n",
        "y_pred4 = xg.predict(X_test)\n",
        "y_pred5= tree_reg.predict(X_test)"
      ],
      "metadata": {
        "execution": {
          "iopub.status.busy": "2023-09-27T18:20:08.748402Z",
          "iopub.execute_input": "2023-09-27T18:20:08.748857Z",
          "iopub.status.idle": "2023-09-27T18:20:08.917802Z",
          "shell.execute_reply.started": "2023-09-27T18:20:08.748823Z",
          "shell.execute_reply": "2023-09-27T18:20:08.91653Z"
        },
        "trusted": true,
        "id": "LpSLeYvDYca0"
      },
      "execution_count": null,
      "outputs": []
    },
    {
      "cell_type": "markdown",
      "source": [
        "<h3> Evaluating the Algorithm</h3>"
      ],
      "metadata": {
        "id": "WqHVXjZfYca0"
      }
    },
    {
      "cell_type": "code",
      "source": [
        "from sklearn import metrics\n",
        "score1 = metrics.r2_score(y_test,y_pred1) #linear regression\n",
        "score2 = metrics.r2_score(y_test,y_pred2) #random forest\n",
        "score3 = metrics.r2_score(y_test,y_pred3) #gbr\n",
        "score4 = metrics.r2_score(y_test,y_pred4) #xg\n",
        "score5 = metrics.r2_score(y_test,y_pred5) #dt"
      ],
      "metadata": {
        "execution": {
          "iopub.status.busy": "2023-09-27T18:20:11.180089Z",
          "iopub.execute_input": "2023-09-27T18:20:11.180522Z",
          "iopub.status.idle": "2023-09-27T18:20:11.192931Z",
          "shell.execute_reply.started": "2023-09-27T18:20:11.180489Z",
          "shell.execute_reply": "2023-09-27T18:20:11.191648Z"
        },
        "trusted": true,
        "id": "Ydco7EvgYca5"
      },
      "execution_count": null,
      "outputs": []
    },
    {
      "cell_type": "code",
      "source": [
        "print(score1,score2,score3,score4,score5)\n"
      ],
      "metadata": {
        "execution": {
          "iopub.status.busy": "2023-09-27T18:20:11.606019Z",
          "iopub.execute_input": "2023-09-27T18:20:11.606485Z",
          "iopub.status.idle": "2023-09-27T18:20:11.613018Z",
          "shell.execute_reply.started": "2023-09-27T18:20:11.606446Z",
          "shell.execute_reply": "2023-09-27T18:20:11.611804Z"
        },
        "trusted": true,
        "id": "lTQCSmwcYca5"
      },
      "execution_count": null,
      "outputs": []
    },
    {
      "cell_type": "code",
      "source": [
        "#visualizing\n",
        "final_data = pd.DataFrame({'Models':['LR','RF','GB','XGR','DT'],\n",
        "             'R2_SCORE':[score1,score2,score3,score4,score5]})"
      ],
      "metadata": {
        "execution": {
          "iopub.status.busy": "2023-09-27T18:20:14.685465Z",
          "iopub.execute_input": "2023-09-27T18:20:14.686201Z",
          "iopub.status.idle": "2023-09-27T18:20:14.6928Z",
          "shell.execute_reply.started": "2023-09-27T18:20:14.686161Z",
          "shell.execute_reply": "2023-09-27T18:20:14.691645Z"
        },
        "trusted": true,
        "id": "x7HaXugoYca5"
      },
      "execution_count": null,
      "outputs": []
    },
    {
      "cell_type": "code",
      "source": [
        "import seaborn as sns\n",
        "sns.barplot(x=final_data['Models'],y=final_data['R2_SCORE'])"
      ],
      "metadata": {
        "execution": {
          "iopub.status.busy": "2023-09-27T18:20:15.325753Z",
          "iopub.execute_input": "2023-09-27T18:20:15.326181Z",
          "iopub.status.idle": "2023-09-27T18:20:15.603201Z",
          "shell.execute_reply.started": "2023-09-27T18:20:15.326148Z",
          "shell.execute_reply": "2023-09-27T18:20:15.601426Z"
        },
        "trusted": true,
        "id": "zuetm5bdYca5"
      },
      "execution_count": null,
      "outputs": []
    },
    {
      "cell_type": "markdown",
      "source": [
        "* **Linear Regression (score1):** An R-squared score of 0.5209 indicates that the Linear Regression model explains approximately 52.09% of the variance in the test data. This means the model provides a moderate fit to the data.\n",
        "\n",
        "* **Support Vector Machine Regressor (score2):** An R-squared score of -0.0002 is very close to zero. It shows that svm is not performing well on the test data and may not be a suitable model for this particular problem. Negative R-squared values can indicate that the model is performing worse than a horizontal line.\n",
        "\n",
        "* **Random Forest Regressor (score3):** An R-squared score of 1.0 indicates a perfect fit to the data.\n",
        "\n",
        "* **Gradient Boosting Regressor (score4):** An R-squared score of 0.9977 indicates that the Gradient Boosting Regressor provides an excellent fit to the test data, explaining almost 99.77% of the variance. This is a strong performance.\n",
        "\n",
        "* **XGBoost Regressor (score5):** An R-squared score of 1.0, similar to the Random Forest."
      ],
      "metadata": {
        "id": "CwnlK-RsYca5"
      }
    },
    {
      "cell_type": "code",
      "source": [
        "df.head()"
      ],
      "metadata": {
        "execution": {
          "iopub.status.busy": "2023-09-27T18:20:23.461408Z",
          "iopub.execute_input": "2023-09-27T18:20:23.461926Z",
          "iopub.status.idle": "2023-09-27T18:20:23.478044Z",
          "shell.execute_reply.started": "2023-09-27T18:20:23.46189Z",
          "shell.execute_reply": "2023-09-27T18:20:23.476745Z"
        },
        "trusted": true,
        "id": "riPcJWVIYca6"
      },
      "execution_count": null,
      "outputs": []
    },
    {
      "cell_type": "markdown",
      "source": [
        "<h3>final model</h3>"
      ],
      "metadata": {
        "id": "kdEU01iOYca6"
      }
    },
    {
      "cell_type": "code",
      "source": [
        "custom_values = [[3,2,1,3,3]]\n",
        "\n",
        "# Convert the custom input values to a NumPy array\n",
        "custom_array = np.array(custom_values)\n",
        "y_pred = tree_reg.predict(custom_array)\n",
        "\n",
        "# Print the predicted values\n",
        "print(\"Predicted Values:\", y_pred)"
      ],
      "metadata": {
        "execution": {
          "iopub.status.busy": "2023-09-27T18:23:50.7065Z",
          "iopub.execute_input": "2023-09-27T18:23:50.707727Z",
          "iopub.status.idle": "2023-09-27T18:23:50.716509Z",
          "shell.execute_reply.started": "2023-09-27T18:23:50.707683Z",
          "shell.execute_reply": "2023-09-27T18:23:50.715261Z"
        },
        "trusted": true,
        "id": "zrqQMAsvYca6"
      },
      "execution_count": null,
      "outputs": []
    },
    {
      "cell_type": "code",
      "source": [],
      "metadata": {
        "id": "8tb9rF-ZYca6"
      },
      "execution_count": null,
      "outputs": []
    },
    {
      "cell_type": "code",
      "source": [],
      "metadata": {
        "id": "OCLkfm9fYca6"
      },
      "execution_count": null,
      "outputs": []
    }
  ]
}